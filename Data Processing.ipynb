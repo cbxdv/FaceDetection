{
 "cells": [
  {
   "cell_type": "code",
   "execution_count": 1,
   "id": "8d29da34-174d-4794-8be7-68638a1020be",
   "metadata": {
    "tags": []
   },
   "outputs": [],
   "source": [
    "import os\n",
    "from uuid import uuid4\n",
    "import shutil\n",
    "import cv2"
   ]
  },
  {
   "cell_type": "code",
   "execution_count": 2,
   "id": "3476c14f-9148-4f4c-b3a6-dabb8ac43195",
   "metadata": {
    "tags": []
   },
   "outputs": [],
   "source": [
    "RAW_IMAGES_PATH = 'temp/images_raw/'\n",
    "OUTPUT_IMAGES_PATH = 'temp/images/'"
   ]
  },
  {
   "cell_type": "markdown",
   "id": "b2043814-66cc-466c-8aac-d43ead69bbdd",
   "metadata": {},
   "source": [
    "Retrieving image names"
   ]
  },
  {
   "cell_type": "code",
   "execution_count": 3,
   "id": "58617e08-05db-41ae-9e3f-8296a2f2061e",
   "metadata": {},
   "outputs": [],
   "source": [
    "images = []\n",
    "\n",
    "for file_name in os.listdir('temp/images_raw/'):\n",
    "    if file_name.endswith(('jpg', 'jpeg', 'png', 'webp')):\n",
    "        images.append(file_name)"
   ]
  },
  {
   "cell_type": "code",
   "execution_count": 4,
   "id": "35c0f8ff-ef62-4428-a5ba-06a0098f111c",
   "metadata": {},
   "outputs": [
    {
     "data": {
      "text/plain": [
       "120"
      ]
     },
     "execution_count": 4,
     "metadata": {},
     "output_type": "execute_result"
    }
   ],
   "source": [
    "len(images)"
   ]
  },
  {
   "cell_type": "markdown",
   "id": "21ce41f4-5f04-4b84-84dc-9d43f50b624f",
   "metadata": {},
   "source": [
    "Compressing images to standard size"
   ]
  },
  {
   "cell_type": "code",
   "execution_count": 41,
   "id": "bb1c7baa-aac6-4c83-a67e-0aef5a25fe7d",
   "metadata": {
    "tags": []
   },
   "outputs": [],
   "source": [
    "for image in images:\n",
    "    INPUT_PATH = RAW_IMAGES_PATH + image\n",
    "    OUTPUT_PATH = OUTPUT_IMAGES_PATH + ''.join(image.split('.')[:-1]) + '.jpeg'\n",
    "    im = cv2.imread(INPUT_PATH)\n",
    "    im = cv2.resize(im, (512, 512))\n",
    "    cv2.imwrite(OUTPUT_PATH, im)"
   ]
  },
  {
   "cell_type": "markdown",
   "id": "63fb7038-2028-4c4e-85bd-041696606535",
   "metadata": {},
   "source": [
    "Checking Image Formats"
   ]
  },
  {
   "cell_type": "code",
   "execution_count": 5,
   "id": "f998761c-e2b2-4ed4-b3f5-19e6dad9ec3a",
   "metadata": {},
   "outputs": [],
   "source": [
    "count = 0\n",
    "for image_name in os.listdir('temp/images'):\n",
    "    if image_name.endswith(('.jpeg', 'jpg')):\n",
    "        count += 1\n",
    "    else:\n",
    "        break"
   ]
  },
  {
   "cell_type": "code",
   "execution_count": 6,
   "id": "f7bdbaac-0bf2-4a0e-b283-fac01a6c0048",
   "metadata": {
    "tags": []
   },
   "outputs": [],
   "source": [
    "assert(count == 120)"
   ]
  },
  {
   "cell_type": "markdown",
   "id": "a3c655cb-3772-4979-aa83-b63cc3fbe110",
   "metadata": {},
   "source": [
    "Generating unique names"
   ]
  },
  {
   "cell_type": "code",
   "execution_count": 2,
   "id": "f73df6c5-8d96-4c67-a64e-071ed19fa151",
   "metadata": {},
   "outputs": [],
   "source": [
    "IMAGES_PATH = 'temp/images/'\n",
    "LABELS_PATH = 'temp/labels/'"
   ]
  },
  {
   "cell_type": "code",
   "execution_count": 3,
   "id": "7a54ed3a-5818-418e-b03e-62473069d4b1",
   "metadata": {},
   "outputs": [],
   "source": [
    "def rename_data(image_name: str, label_name: str) -> tuple:\n",
    "    # new_name = nanoid.generate('0123456789abcdefghijklmnopqrstuvwxyzABCDEFGHIJKLMNOPQRSTUVWXYZ')\n",
    "    new_name = str(uuid4())\n",
    "        \n",
    "    # Saving image with new name\n",
    "    old_image = IMAGES_PATH + image_name\n",
    "    new_image = IMAGES_PATH + new_name + '.jpeg'\n",
    "    os.rename(old_image, new_image)\n",
    "    \n",
    "    # Saving labels\n",
    "    if label_name is not None and len(label_name) != 0:\n",
    "        old_label = LABELS_PATH + label_name\n",
    "        new_label = LABELS_PATH + new_name + '.txt'\n",
    "        os.rename(old_label, new_label)\n",
    "    else:\n",
    "        new_label = None\n",
    "    \n",
    "    return new_image, new_label"
   ]
  },
  {
   "cell_type": "code",
   "execution_count": 4,
   "id": "640c5baf-3194-452b-9a23-4089651e8ecf",
   "metadata": {
    "tags": []
   },
   "outputs": [],
   "source": [
    "labeled_count = 0\n",
    "unlabeled_count = 0\n",
    "\n",
    "images = os.listdir(IMAGES_PATH)\n",
    "labels = os.listdir(LABELS_PATH)"
   ]
  },
  {
   "cell_type": "code",
   "execution_count": 5,
   "id": "565c63cd-9394-4f61-9cde-fc542fb33995",
   "metadata": {},
   "outputs": [],
   "source": [
    "for image_name in images:\n",
    "    name = os.path.splitext(image_name)[0]\n",
    "    \n",
    "    image_name = name + '.jpeg'\n",
    "    label_name = name + '.txt'\n",
    "    \n",
    "    if image_name in images and label_name in labels:\n",
    "        rename_data(image_name, label_name)\n",
    "        labeled_count += 1\n",
    "    else:\n",
    "        rename_data(image_name, None)\n",
    "        unlabeled_count += 1"
   ]
  },
  {
   "cell_type": "code",
   "execution_count": 6,
   "id": "706bb1d6-9f6c-45d3-84f4-1e797ce66096",
   "metadata": {
    "tags": []
   },
   "outputs": [],
   "source": [
    "assert(labeled_count == 113)\n",
    "assert(unlabeled_count == 7)"
   ]
  }
 ],
 "metadata": {
  "kernelspec": {
   "display_name": "Python 3 (ipykernel)",
   "language": "python",
   "name": "python3"
  },
  "language_info": {
   "codemirror_mode": {
    "name": "ipython",
    "version": 3
   },
   "file_extension": ".py",
   "mimetype": "text/x-python",
   "name": "python",
   "nbconvert_exporter": "python",
   "pygments_lexer": "ipython3",
   "version": "3.8.16"
  }
 },
 "nbformat": 4,
 "nbformat_minor": 5
}
